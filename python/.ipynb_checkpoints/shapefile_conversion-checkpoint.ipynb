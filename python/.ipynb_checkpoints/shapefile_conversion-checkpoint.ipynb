{
 "cells": [
  {
   "cell_type": "code",
   "execution_count": 1,
   "metadata": {
    "collapsed": true
   },
   "outputs": [],
   "source": [
    "import subprocess"
   ]
  },
  {
   "cell_type": "code",
   "execution_count": 2,
   "metadata": {
    "collapsed": true
   },
   "outputs": [],
   "source": [
    "def exec_command(command_text):\n",
    "    p = subprocess.call(command_text, shell=True)\n",
    "    if p == 1: raise Exception('failed command') "
   ]
  },
  {
   "cell_type": "code",
   "execution_count": 3,
   "metadata": {
    "collapsed": true
   },
   "outputs": [],
   "source": [
    "data_path = \"../map_creation/qgis/shapefiles_to_merge/\""
   ]
  },
  {
   "cell_type": "code",
   "execution_count": 4,
   "metadata": {
    "collapsed": true
   },
   "outputs": [],
   "source": [
    "fname = 'merged.shp'"
   ]
  },
  {
   "cell_type": "markdown",
   "metadata": {},
   "source": [
    "Example: "
   ]
  },
  {
   "cell_type": "markdown",
   "metadata": {},
   "source": [
    "exec_command(\"\"\"topojson -p --height=4000 --margin 20 -o ../data/ca_w_prop.json -- ../data/fed_cf_CA_2_1_shp_en/FED_CA_2_1_en.shp\"\"\")"
   ]
  },
  {
   "cell_type": "code",
   "execution_count": 5,
   "metadata": {
    "collapsed": true
   },
   "outputs": [],
   "source": [
    "exec_command(\"topojson -p -o ../data/test1.json -- \" + data_path + fname)"
   ]
  },
  {
   "cell_type": "code",
   "execution_count": 13,
   "metadata": {
    "collapsed": true
   },
   "outputs": [],
   "source": [
    "data_path = \"../map_creation/qgis/\""
   ]
  },
  {
   "cell_type": "code",
   "execution_count": 14,
   "metadata": {
    "collapsed": true
   },
   "outputs": [],
   "source": [
    "exec_command(\"topojson -p -o ../data/test2.json -- \" + data_path + 'background.shp')"
   ]
  },
  {
   "cell_type": "code",
   "execution_count": 15,
   "metadata": {
    "collapsed": true
   },
   "outputs": [],
   "source": [
    "exec_command(\"topojson -p -o ../data/test3.json -- \" + data_path + 'back_2.shp')"
   ]
  },
  {
   "cell_type": "code",
   "execution_count": 16,
   "metadata": {
    "collapsed": true
   },
   "outputs": [],
   "source": [
    "exec_command(\"topojson -p -o ../data/test4.json -- \" + data_path + 'water.shp')"
   ]
  },
  {
   "cell_type": "code",
   "execution_count": null,
   "metadata": {
    "collapsed": true
   },
   "outputs": [],
   "source": []
  },
  {
   "cell_type": "code",
   "execution_count": null,
   "metadata": {
    "collapsed": true
   },
   "outputs": [],
   "source": []
  },
  {
   "cell_type": "code",
   "execution_count": 17,
   "metadata": {
    "collapsed": true
   },
   "outputs": [],
   "source": [
    "exec_command(\"topojson -p -o ../data/water.json -- \" + data_path + 'water.shp')"
   ]
  },
  {
   "cell_type": "code",
   "execution_count": 18,
   "metadata": {
    "collapsed": true
   },
   "outputs": [],
   "source": [
    "exec_command(\"topojson -p -o ../data/background.json -- \" + data_path + 'background.shp')\n",
    "exec_command(\"topojson -p -o ../data/map_1.json -- \" + data_path + 'map_1.shp')\n",
    "exec_command(\"topojson -p -o ../data/map_2.json -- \" + data_path + 'map_2.shp')\n",
    "exec_command(\"topojson -p -o ../data/map_3.json -- \" + data_path + 'map_3.shp')\n",
    "exec_command(\"topojson -p -o ../data/map_4.json -- \" + data_path + 'map_4.shp')\n",
    "exec_command(\"topojson -p -o ../data/map_5.json -- \" + data_path + 'map_5.shp')"
   ]
  },
  {
   "cell_type": "markdown",
   "metadata": {},
   "source": [
    "What finally worked was importing the (right side up) png files into qgis using the raster > convert > raster to vector tool. It seemed to only work when I deleted the shp files created by previous tries. I also used the Lambert I projection, but I'm not sure if that made a difference. I then used the code above to convert the shp files to geojson. Then loded them into a webpage unprojected and they appear to be oriented correctly."
   ]
  },
  {
   "cell_type": "code",
   "execution_count": null,
   "metadata": {
    "collapsed": true
   },
   "outputs": [],
   "source": []
  }
 ],
 "metadata": {
  "kernelspec": {
   "display_name": "Python 2",
   "language": "python",
   "name": "python2"
  },
  "language_info": {
   "codemirror_mode": {
    "name": "ipython",
    "version": 2
   },
   "file_extension": ".py",
   "mimetype": "text/x-python",
   "name": "python",
   "nbconvert_exporter": "python",
   "pygments_lexer": "ipython2",
   "version": "2.7.10"
  }
 },
 "nbformat": 4,
 "nbformat_minor": 0
}
