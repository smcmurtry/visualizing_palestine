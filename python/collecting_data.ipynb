{
 "cells": [
  {
   "cell_type": "markdown",
   "metadata": {},
   "source": [
    "# Collecting data for Visualizing Palestine graphic"
   ]
  },
  {
   "cell_type": "markdown",
   "metadata": {},
   "source": [
    "graphic: http://visualizingpalestine.org/visuals/identity-crisis-the-israeli-id-system\n",
    "\n",
    "## SOURCES & DATA\n",
    "\n",
    "Population estimates for 2011 collated from Israeli CBS, Palestinian CBS, OCHA and Badil. Maps are illustrative, based on data collated from Israel CBS and OCHA.\n",
    "ID matrix adapted from Helga Tawil-Souri. Additional facts from B’Tselem and Adalah.\n",
    " \n",
    "### Population Data\n",
    "\n",
    "* Central Bureau of Statistics, 2012. Statistical Abstract of Israel (accessed on 15 May 2014) http://www1.cbs.gov.il/reader/shnaton/shnatone_new.htm?CYear=2012&Vol=63&CSubject=2\n",
    "* Palestinian Central Bureau of Statistics, Estimated Population in the Palestinian Territory Mid-Year by Governorate,1997-2016 (accessed on 15 May 2014) http://pcbs.gov.ps/Portals/_Rainbow/Documents/gover_e.htm\n",
    "* Badil, 2012. Survey of Palestinian Refugees and Internally Displaced Persons 2010 - 2012 (PDF) http://www.badil.org/phocadownload/Badil_docs/publications/Survey2012.pdf\n",
    " \n",
    "### Map Data\n",
    "\n",
    "* Central Bureau of Statistics, 2012. Statistical Abstract of Israel. (accessed on 15 May 2014) http://www1.cbs.gov.il/reader/shnaton/shnatone_new.htm?CYear=2012&Vol=63&CSubject=2\n",
    "* OCHA, 2012. Humanitarian Atlas, December 2012 (accessed on 15 May 2014) http://unispal.un.org/UNISPAL.NSF/0/184697701786C1AB85257B82006B5490 [website is down]\n",
    " \n",
    "###Matrix\n",
    "* Helga Tawil-Souri, Social Text, vol.29 (2), 2011. \"Colored Identity: The Politics and Materiality of ID Cards in Palestine/Israel\" (PDF) http://socialtext.dukejournals.org/content/29/2_107/67.abstract?sid=78d549bc-fc32-42da-83d2-0e6a9ab0e829\n",
    " \n",
    "###WB Areas\n",
    "B'Tselem, 2013. What is Area C? (accessed on 15 May 2014) http://www.btselem.org/area_c/what_is_area_c\n",
    " \n",
    "###Israel Admissions\n",
    "Adalah, 2011. Adalah NGO Report to the UN Committee on Economic, Social and Cultural Rights: Arab Palestinian Citizens of Israel (PDF) http://www2.ohchr.org/english/bodies/cescr/docs/ngos/Adalah_Israel47.pdf"
   ]
  },
  {
   "cell_type": "markdown",
   "metadata": {},
   "source": [
    "Promising: http://gis.cbs.gov.il/shnatonserver_english/ \n",
    "\n",
    "and http://beta.govmap.gov.il/?c=gtLcOLAQgLUePG9Nan0gjw==%7CeJMvFZaetoUdf0XOvFER0Q==&z=0&b=0&lay=REGION\n",
    "\n"
   ]
  },
  {
   "cell_type": "code",
   "execution_count": null,
   "metadata": {
    "collapsed": true
   },
   "outputs": [],
   "source": []
  }
 ],
 "metadata": {
  "kernelspec": {
   "display_name": "Python 2",
   "language": "python",
   "name": "python2"
  },
  "language_info": {
   "codemirror_mode": {
    "name": "ipython",
    "version": 2
   },
   "file_extension": ".py",
   "mimetype": "text/x-python",
   "name": "python",
   "nbconvert_exporter": "python",
   "pygments_lexer": "ipython2",
   "version": "2.7.10"
  }
 },
 "nbformat": 4,
 "nbformat_minor": 0
}
